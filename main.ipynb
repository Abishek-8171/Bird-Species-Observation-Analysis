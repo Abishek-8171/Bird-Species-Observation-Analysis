{
 "cells": [
  {
   "cell_type": "markdown",
   "metadata": {},
   "source": [
    "***Bird Species Observation Analysis***"
   ]
  },
  {
   "cell_type": "code",
   "execution_count": 1,
   "metadata": {},
   "outputs": [],
   "source": [
    "import pandas as pd\n",
    "import sqlalchemy\n",
    "import plotly.express as px\n",
    "import plotly.graph_objects as go"
   ]
  },
  {
   "cell_type": "markdown",
   "metadata": {},
   "source": [
    "***Forest data collection***"
   ]
  },
  {
   "cell_type": "code",
   "execution_count": 2,
   "metadata": {},
   "outputs": [],
   "source": [
    "#Reading Excelfile\n",
    "forest_birds = pd.ExcelFile(r\"E:\\Mini_project_2\\FOREST_Bird_Monitoring_Data_.XLSX\")\n",
    "#Storing Sheet names\n",
    "sheet_names = forest_birds.sheet_names\n",
    "\n",
    "sheets_dict = {sheet: forest_birds.parse(sheet) for sheet in sheet_names}\n"
   ]
  },
  {
   "cell_type": "code",
   "execution_count": 3,
   "metadata": {},
   "outputs": [],
   "source": [
    "#Converting excell file into dataframe\n",
    "forest_birds_df = pd.concat(\n",
    "    [df.assign(Sheet=sheet_name) for sheet_name, df in sheets_dict.items()],\n",
    "    ignore_index=True\n",
    ")"
   ]
  },
  {
   "cell_type": "code",
   "execution_count": null,
   "metadata": {},
   "outputs": [],
   "source": [
    "#Dropping sheets columns\n",
    "forest_birds_df = forest_birds_df.drop(columns=['Sheet'])"
   ]
  },
  {
   "cell_type": "code",
   "execution_count": null,
   "metadata": {},
   "outputs": [],
   "source": [
    "#Checking Duplicate values\n",
    "print(forest_birds_df.duplicated().sum())"
   ]
  },
  {
   "cell_type": "code",
   "execution_count": null,
   "metadata": {},
   "outputs": [],
   "source": [
    "#Checking null values\n",
    "forest_birds_df.isna().sum()"
   ]
  },
  {
   "cell_type": "code",
   "execution_count": 7,
   "metadata": {},
   "outputs": [],
   "source": [
    "#Dropping Sub_Unit_Code column\n",
    "forest_birds_df = forest_birds_df.drop(columns=['Sub_Unit_Code'])\n"
   ]
  },
  {
   "cell_type": "code",
   "execution_count": null,
   "metadata": {},
   "outputs": [],
   "source": [
    "forest_birds_df['ID_Method'].value_counts()"
   ]
  },
  {
   "cell_type": "code",
   "execution_count": null,
   "metadata": {},
   "outputs": [],
   "source": [
    "forest_birds_df['ID_Method'].mode()"
   ]
  },
  {
   "cell_type": "code",
   "execution_count": null,
   "metadata": {},
   "outputs": [],
   "source": [
    "#Filling null values with mode()\n",
    "forest_birds_df['ID_Method'].fillna(forest_birds_df['ID_Method'].mode()[0],inplace=True)"
   ]
  },
  {
   "cell_type": "code",
   "execution_count": null,
   "metadata": {},
   "outputs": [],
   "source": [
    "forest_birds_df['Distance'].value_counts()"
   ]
  },
  {
   "cell_type": "code",
   "execution_count": null,
   "metadata": {},
   "outputs": [],
   "source": [
    "forest_birds_df['Distance'].mode()"
   ]
  },
  {
   "cell_type": "code",
   "execution_count": null,
   "metadata": {},
   "outputs": [],
   "source": [
    "#Filling null values with mode()\n",
    "forest_birds_df['Distance'].fillna(forest_birds_df['Distance'].mode()[0],inplace=True)"
   ]
  },
  {
   "cell_type": "code",
   "execution_count": null,
   "metadata": {},
   "outputs": [],
   "source": [
    "forest_birds_df['Sex'].value_counts()"
   ]
  },
  {
   "cell_type": "code",
   "execution_count": null,
   "metadata": {},
   "outputs": [],
   "source": [
    "forest_birds_df['Sex'].mode()"
   ]
  },
  {
   "cell_type": "code",
   "execution_count": null,
   "metadata": {},
   "outputs": [],
   "source": [
    "#Filling null values with mode()\n",
    "forest_birds_df['Sex'].fillna(forest_birds_df['Sex'].mode()[0],inplace=True)"
   ]
  },
  {
   "cell_type": "code",
   "execution_count": null,
   "metadata": {},
   "outputs": [],
   "source": [
    "forest_birds_df.isna().sum()"
   ]
  },
  {
   "cell_type": "code",
   "execution_count": null,
   "metadata": {},
   "outputs": [],
   "source": [
    "forest_birds_df['AcceptedTSN'].value_counts()"
   ]
  },
  {
   "cell_type": "code",
   "execution_count": null,
   "metadata": {},
   "outputs": [],
   "source": [
    "print(forest_birds_df['AcceptedTSN'].median())\n"
   ]
  },
  {
   "cell_type": "code",
   "execution_count": null,
   "metadata": {},
   "outputs": [],
   "source": [
    "#Filling null values with median()\n",
    "forest_birds_df['AcceptedTSN'].fillna(forest_birds_df['AcceptedTSN'].median(),inplace=True)"
   ]
  },
  {
   "cell_type": "code",
   "execution_count": null,
   "metadata": {},
   "outputs": [],
   "source": [
    "print(forest_birds_df.duplicated().sum())"
   ]
  },
  {
   "cell_type": "code",
   "execution_count": null,
   "metadata": {},
   "outputs": [],
   "source": [
    "#Dropping Duplicate rows\n",
    "forest_birds_final_df=forest_birds_df.drop_duplicates(keep='first') # it keeps fisrt rows"
   ]
  },
  {
   "cell_type": "code",
   "execution_count": null,
   "metadata": {},
   "outputs": [],
   "source": [
    "forest_birds_final_df.describe()"
   ]
  },
  {
   "cell_type": "code",
   "execution_count": null,
   "metadata": {},
   "outputs": [],
   "source": [
    "print(forest_birds_final_df.duplicated().sum())"
   ]
  },
  {
   "cell_type": "markdown",
   "metadata": {},
   "source": [
    "***Grassland data collection***"
   ]
  },
  {
   "cell_type": "code",
   "execution_count": 27,
   "metadata": {},
   "outputs": [],
   "source": [
    "#Reading Excelfile\n",
    "gl_birds = pd.ExcelFile(r\"E:\\Mini_project_2\\GRASSLAND_Bird_Monitoring_Data_.XLSX\")\n",
    "#Storing Sheet names\n",
    "sheet_names = gl_birds.sheet_names\n",
    "\n",
    "sheets_dict = {sheet: gl_birds.parse(sheet) for sheet in sheet_names}"
   ]
  },
  {
   "cell_type": "code",
   "execution_count": null,
   "metadata": {},
   "outputs": [],
   "source": [
    "#Converting excell file into dataframe\n",
    "gl_birds = pd.concat(\n",
    "    [df.assign(Sheet=sheet_name) for sheet_name, df in sheets_dict.items()],\n",
    "    ignore_index=True\n",
    ")"
   ]
  },
  {
   "cell_type": "code",
   "execution_count": null,
   "metadata": {},
   "outputs": [],
   "source": [
    "#Dropping sheets columns\n",
    "gl_birds_df = gl_birds.drop(columns=['Sheet'])"
   ]
  },
  {
   "cell_type": "code",
   "execution_count": null,
   "metadata": {},
   "outputs": [],
   "source": [
    "gl_birds_df=gl_birds_df.drop(columns=['Sub_Unit_Code'])"
   ]
  },
  {
   "cell_type": "code",
   "execution_count": null,
   "metadata": {},
   "outputs": [],
   "source": [
    "print(gl_birds_df.duplicated().sum())"
   ]
  },
  {
   "cell_type": "code",
   "execution_count": null,
   "metadata": {},
   "outputs": [],
   "source": [
    "gl_birds_df['ID_Method'].value_counts()"
   ]
  },
  {
   "cell_type": "code",
   "execution_count": null,
   "metadata": {},
   "outputs": [],
   "source": [
    "gl_birds_df['ID_Method'].mode()\n"
   ]
  },
  {
   "cell_type": "code",
   "execution_count": null,
   "metadata": {},
   "outputs": [],
   "source": [
    "gl_birds_df['ID_Method'].fillna(gl_birds_df['ID_Method'].mode()[0],inplace=True)\n"
   ]
  },
  {
   "cell_type": "code",
   "execution_count": null,
   "metadata": {},
   "outputs": [],
   "source": [
    "gl_birds_df['Distance'].value_counts()      \n"
   ]
  },
  {
   "cell_type": "code",
   "execution_count": null,
   "metadata": {},
   "outputs": [],
   "source": [
    "gl_birds_df['Distance'].mode()        \n"
   ]
  },
  {
   "cell_type": "code",
   "execution_count": null,
   "metadata": {},
   "outputs": [],
   "source": [
    "gl_birds_df['Distance'].fillna(gl_birds_df['Distance'].mode()[0],inplace=True)"
   ]
  },
  {
   "cell_type": "code",
   "execution_count": null,
   "metadata": {},
   "outputs": [],
   "source": [
    "gl_birds_df['AcceptedTSN'].value_counts()        "
   ]
  },
  {
   "cell_type": "code",
   "execution_count": null,
   "metadata": {},
   "outputs": [],
   "source": [
    "print(gl_birds_df['AcceptedTSN'].median())     "
   ]
  },
  {
   "cell_type": "code",
   "execution_count": null,
   "metadata": {},
   "outputs": [],
   "source": [
    "gl_birds_df['AcceptedTSN'].fillna(gl_birds_df['AcceptedTSN'].median(),inplace=True)          "
   ]
  },
  {
   "cell_type": "code",
   "execution_count": null,
   "metadata": {},
   "outputs": [],
   "source": [
    "gl_birds_df['TaxonCode'].value_counts()  "
   ]
  },
  {
   "cell_type": "code",
   "execution_count": null,
   "metadata": {},
   "outputs": [],
   "source": [
    "print(gl_birds_df['TaxonCode'].median() )  "
   ]
  },
  {
   "cell_type": "code",
   "execution_count": null,
   "metadata": {},
   "outputs": [],
   "source": [
    "gl_birds_df['TaxonCode'].fillna(gl_birds_df['TaxonCode'].median(),inplace=True)  "
   ]
  },
  {
   "cell_type": "code",
   "execution_count": null,
   "metadata": {},
   "outputs": [],
   "source": [
    "gl_birds_df.isna().sum()"
   ]
  },
  {
   "cell_type": "code",
   "execution_count": null,
   "metadata": {},
   "outputs": [],
   "source": [
    "print(gl_birds_df.duplicated().sum())"
   ]
  },
  {
   "cell_type": "code",
   "execution_count": null,
   "metadata": {},
   "outputs": [],
   "source": [
    "gl_birds_final_df=gl_birds_df.drop_duplicates(keep='first')"
   ]
  },
  {
   "cell_type": "code",
   "execution_count": null,
   "metadata": {},
   "outputs": [],
   "source": [
    "print(gl_birds_final_df.duplicated().sum())"
   ]
  },
  {
   "cell_type": "markdown",
   "metadata": {},
   "source": [
    "***Transfering data to SQL***"
   ]
  },
  {
   "cell_type": "code",
   "execution_count": null,
   "metadata": {},
   "outputs": [],
   "source": [
    "#Forest monitoring data\n",
    "from sqlalchemy import create_engine\n",
    "host = \"localhost\"\n",
    "port =\"5432\"\n",
    "username = \"postgres\" \n",
    "password = \"begin25\"\n",
    "db_name = \"birds_data\"\n",
    "\n",
    "connector =f\"postgresql://{username}:{password}@{host}:{port}/{db_name}\" #must follow this syntax\n",
    "\n",
    "engine = create_engine(connector)\n",
    "\n",
    "table_name =\"forest_birds_observation\"\n",
    "\n",
    "forest_birds_final_df.to_sql(table_name,engine,if_exists=\"replace\",index= False)\n",
    "\n",
    "print(\"Data Transferred Successfully\")"
   ]
  },
  {
   "cell_type": "code",
   "execution_count": null,
   "metadata": {},
   "outputs": [],
   "source": [
    "#grassland monitoring data\n",
    "table_name =\"grassland_birds_observation\"\n",
    "\n",
    "gl_birds_final_df.to_sql(table_name,engine,if_exists=\"replace\",index= False)\n",
    "\n",
    "print(\"Data Transferred Successfully\")"
   ]
  },
  {
   "cell_type": "markdown",
   "metadata": {},
   "source": [
    "**Temporal analysis**"
   ]
  },
  {
   "cell_type": "markdown",
   "metadata": {},
   "source": [
    "*Seasonal Trends*"
   ]
  },
  {
   "cell_type": "code",
   "execution_count": null,
   "metadata": {},
   "outputs": [],
   "source": [
    "#Seprating columns for analysis from main dataframe\n",
    "seasons_forest=forest_birds_final_df[['Date','Common_Name']]"
   ]
  },
  {
   "cell_type": "code",
   "execution_count": null,
   "metadata": {},
   "outputs": [],
   "source": [
    "#Seprating month from the date \n",
    "seasons_forest['Month']=seasons_forest['Date'].dt.month"
   ]
  },
  {
   "cell_type": "code",
   "execution_count": null,
   "metadata": {},
   "outputs": [],
   "source": [
    "#Creating function to add season according to month\n",
    "def get_season(month):\n",
    "    if month in [12, 1, 2]: return 'Winter'\n",
    "    elif month in [3, 4, 5]: return 'Spring'\n",
    "    elif month in [6, 7, 8]: return 'Summer'\n",
    "    else: return 'Fall'\n",
    "\n",
    "seasons_forest['Season'] = seasons_forest['Month'].apply(get_season)"
   ]
  },
  {
   "cell_type": "code",
   "execution_count": null,
   "metadata": {},
   "outputs": [],
   "source": [
    "SeasonalTrends_forest=seasons_forest.Common_Name.groupby(seasons_forest.Season).value_counts().reset_index(name=\"Sightings observed\")"
   ]
  },
  {
   "cell_type": "code",
   "execution_count": null,
   "metadata": {},
   "outputs": [],
   "source": [
    "#Seprating columns for analysis from main dataframe\n",
    "seasons_grassland=gl_birds_final_df[['Date','Common_Name']]"
   ]
  },
  {
   "cell_type": "code",
   "execution_count": null,
   "metadata": {},
   "outputs": [],
   "source": [
    "#Seprating month from the date\n",
    "seasons_grassland['Month']=seasons_grassland['Date'].dt.month"
   ]
  },
  {
   "cell_type": "code",
   "execution_count": null,
   "metadata": {},
   "outputs": [],
   "source": [
    "seasons_grassland['Season'] = seasons_grassland['Month'].apply(get_season)"
   ]
  },
  {
   "cell_type": "code",
   "execution_count": null,
   "metadata": {},
   "outputs": [],
   "source": [
    "SeasonalTrends_grassland=seasons_grassland.Common_Name.groupby(seasons_grassland.Season).value_counts().reset_index(name=\"Sightings observed\")"
   ]
  },
  {
   "cell_type": "code",
   "execution_count": null,
   "metadata": {},
   "outputs": [],
   "source": [
    "#Forest Birds\n",
    "st_forest=px.bar(SeasonalTrends_forest,x='Common_Name',y='Sightings observed',color='Season')\n",
    "st_forest.update_layout(title=\"Seasonal trends in forest\") \n",
    "st_forest.show()"
   ]
  },
  {
   "cell_type": "code",
   "execution_count": null,
   "metadata": {},
   "outputs": [],
   "source": [
    "# Grassland birds\n",
    "st_grassland=px.bar(SeasonalTrends_grassland,x='Common_Name',y='Sightings observed',color='Season')\n",
    "st_grassland.update_layout(title=\"Seasonal trends in grassland\") \n",
    "st_grassland.show()"
   ]
  },
  {
   "cell_type": "markdown",
   "metadata": {},
   "source": [
    "*Observation Time*"
   ]
  },
  {
   "cell_type": "code",
   "execution_count": null,
   "metadata": {},
   "outputs": [],
   "source": [
    "#Seprating columns for analysis from main dataframe\n",
    "observation_forest=forest_birds_final_df[['Date', \"Start_Time\", \"End_Time\",\"Common_Name\"]]"
   ]
  },
  {
   "cell_type": "code",
   "execution_count": null,
   "metadata": {},
   "outputs": [],
   "source": [
    "#Changing datatypes of the columns\n",
    "observation_forest['Date'] = observation_forest['Date'].astype(str)\n",
    "observation_forest['Start_Time'] = observation_forest['Start_Time'].astype(str)\n"
   ]
  },
  {
   "cell_type": "code",
   "execution_count": null,
   "metadata": {},
   "outputs": [],
   "source": [
    "#Merging two columns\n",
    "observation_forest['Time']= observation_forest['Date'].astype(str) + ' ' + observation_forest['Start_Time']"
   ]
  },
  {
   "cell_type": "code",
   "execution_count": null,
   "metadata": {},
   "outputs": [],
   "source": [
    "observation_forest['Time'] = pd.to_datetime(observation_forest['Time'])\n",
    "\n",
    "# Extract hour\n",
    "observation_forest['Time_of_observation'] = observation_forest['Time'].dt.hour\n"
   ]
  },
  {
   "cell_type": "code",
   "execution_count": null,
   "metadata": {},
   "outputs": [],
   "source": [
    "observation_forest_activity = observation_forest['Time_of_observation'].value_counts().reset_index(name='Birds activity monitored')"
   ]
  },
  {
   "cell_type": "code",
   "execution_count": null,
   "metadata": {},
   "outputs": [],
   "source": [
    "ot_forest=px.bar(observation_forest_activity,x='Time_of_observation',y='Birds activity monitored',color='Time_of_observation')\n",
    "ot_forest.update_layout(title='Forest birds activity')\n",
    "ot_forest.show()"
   ]
  },
  {
   "cell_type": "code",
   "execution_count": null,
   "metadata": {},
   "outputs": [],
   "source": [
    "observation_grassland=gl_birds_final_df[['Date', \"Start_Time\", \"End_Time\",\"Common_Name\"]]"
   ]
  },
  {
   "cell_type": "code",
   "execution_count": null,
   "metadata": {},
   "outputs": [],
   "source": [
    "observation_grassland['Date'] = observation_grassland['Date'].astype(str)\n",
    "observation_grassland['Start_Time'] = observation_grassland['Start_Time'].astype(str)"
   ]
  },
  {
   "cell_type": "code",
   "execution_count": null,
   "metadata": {},
   "outputs": [],
   "source": [
    "observation_grassland['Time']= observation_grassland['Date'] + ' ' + observation_grassland['Start_Time']"
   ]
  },
  {
   "cell_type": "code",
   "execution_count": null,
   "metadata": {},
   "outputs": [],
   "source": [
    "observation_grassland['Time'] = pd.to_datetime(observation_grassland['Time'])\n",
    "\n",
    "# Extract hour\n",
    "observation_grassland['Time_of_observation'] = observation_grassland['Time'].dt.hour"
   ]
  },
  {
   "cell_type": "code",
   "execution_count": null,
   "metadata": {},
   "outputs": [],
   "source": [
    "observation_grassland_activity= observation_grassland['Time_of_observation'].value_counts().reset_index(name='Birds activity monitored')"
   ]
  },
  {
   "cell_type": "code",
   "execution_count": null,
   "metadata": {},
   "outputs": [],
   "source": [
    "ot_grassland=px.bar(observation_grassland_activity,x='Time_of_observation',y='Birds activity monitored',color='Time_of_observation')\n",
    "ot_grassland.update_layout(title='Grassland birds activity')\n",
    "ot_grassland.show()"
   ]
  },
  {
   "cell_type": "markdown",
   "metadata": {},
   "source": [
    "**Spatial Analysis**\n"
   ]
  },
  {
   "cell_type": "markdown",
   "metadata": {},
   "source": [
    "*Location Insights*"
   ]
  },
  {
   "cell_type": "code",
   "execution_count": null,
   "metadata": {},
   "outputs": [],
   "source": [
    "forest_loc=forest_birds_final_df[['Location_Type', 'Common_Name']]"
   ]
  },
  {
   "cell_type": "code",
   "execution_count": null,
   "metadata": {},
   "outputs": [],
   "source": [
    "grassland_loc=gl_birds_final_df[['Location_Type', 'Common_Name']]"
   ]
  },
  {
   "cell_type": "code",
   "execution_count": 117,
   "metadata": {},
   "outputs": [],
   "source": [
    "location_ins = pd.concat([forest_loc, grassland_loc], ignore_index=True)\n"
   ]
  },
  {
   "cell_type": "code",
   "execution_count": null,
   "metadata": {},
   "outputs": [],
   "source": [
    "unique_species=location_ins.Common_Name.groupby(location_ins.Location_Type).nunique().reset_index(name=\"Species identified\")\n"
   ]
  },
  {
   "cell_type": "code",
   "execution_count": null,
   "metadata": {},
   "outputs": [],
   "source": [
    "location=px.bar(unique_species,x='Location_Type',y='Species identified',color='Location_Type')\n",
    "location.update_layout(title=\" Biodiversity hotspots\") \n",
    "location.show()"
   ]
  },
  {
   "cell_type": "markdown",
   "metadata": {},
   "source": [
    "**Plot-Level Analysis**"
   ]
  },
  {
   "cell_type": "code",
   "execution_count": null,
   "metadata": {},
   "outputs": [],
   "source": [
    "plt_forest=forest_birds_final_df[['Plot_Name','Location_Type', 'Common_Name']]"
   ]
  },
  {
   "cell_type": "code",
   "execution_count": null,
   "metadata": {},
   "outputs": [],
   "source": [
    "plt_analysis_forest=plt_forest.Common_Name.groupby(plt_forest.Plot_Name).nunique().reset_index(name='Species identified')"
   ]
  },
  {
   "cell_type": "code",
   "execution_count": null,
   "metadata": {},
   "outputs": [],
   "source": [
    "plt_analysis_forest_ = plt_analysis_forest.sort_values(by=\"Species identified\", ascending=False)"
   ]
  },
  {
   "cell_type": "code",
   "execution_count": null,
   "metadata": {},
   "outputs": [],
   "source": [
    "plt_analysis_forest_10=plt_analysis_forest_.head(10)d"
   ]
  },
  {
   "cell_type": "code",
   "execution_count": null,
   "metadata": {},
   "outputs": [],
   "source": [
    "pla_forest=px.bar(plt_analysis_forest_10,x='Plot_Name',y='Species identified',color='Plot_Name')\n",
    "pla_forest.update_layout(title=\"Plots attract more species - Forest\") \n",
    "pla_forest.show()"
   ]
  },
  {
   "cell_type": "code",
   "execution_count": null,
   "metadata": {},
   "outputs": [],
   "source": [
    "plt_grassland=gl_birds_final_df[['Plot_Name','Location_Type','Common_Name']]"
   ]
  },
  {
   "cell_type": "code",
   "execution_count": null,
   "metadata": {},
   "outputs": [],
   "source": [
    "plt_analysis_grassland=plt_grassland.Common_Name.groupby(plt_grassland.Plot_Name).nunique().reset_index(name='Species identified')"
   ]
  },
  {
   "cell_type": "code",
   "execution_count": null,
   "metadata": {},
   "outputs": [],
   "source": [
    "plt_analysis_grassland_ = plt_analysis_grassland.sort_values(by=\"Species identified\", ascending=False)\n",
    "plt_analysis_grassland_10=plt_analysis_grassland_.head(10)"
   ]
  },
  {
   "cell_type": "code",
   "execution_count": null,
   "metadata": {},
   "outputs": [],
   "source": [
    "pla_grassland=px.bar(plt_analysis_grassland_10,x='Plot_Name',y='Species identified',color='Plot_Name')\n",
    "pla_grassland.update_layout(title=\"Plots attract more species - Grassland\") \n",
    "pla_grassland.show()"
   ]
  },
  {
   "cell_type": "markdown",
   "metadata": {},
   "source": [
    "*Species Analysis*"
   ]
  },
  {
   "cell_type": "code",
   "execution_count": null,
   "metadata": {},
   "outputs": [],
   "source": [
    "forest_birds_species= forest_birds_final_df[['Location_Type', 'Scientific_Name']]"
   ]
  },
  {
   "cell_type": "code",
   "execution_count": null,
   "metadata": {},
   "outputs": [],
   "source": [
    "gl_birds_species=gl_birds_final_df[['Location_Type', 'Scientific_Name']]"
   ]
  },
  {
   "cell_type": "code",
   "execution_count": null,
   "metadata": {},
   "outputs": [],
   "source": [
    "birds_loc= pd.concat([forest_birds_species, gl_birds_species], ignore_index=True)"
   ]
  },
  {
   "cell_type": "code",
   "execution_count": null,
   "metadata": {},
   "outputs": [],
   "source": [
    "diversity_count = birds_loc.groupby('Location_Type')['Scientific_Name'].nunique().reset_index(name='species found')"
   ]
  },
  {
   "cell_type": "code",
   "execution_count": null,
   "metadata": {},
   "outputs": [],
   "source": [
    "dm=px.bar(diversity_count,x='Location_Type',y='species found',color='Location_Type')\n",
    "dm.update_layout(title=\"Diversity Metric\") \n",
    "dm.show()"
   ]
  },
  {
   "cell_type": "markdown",
   "metadata": {},
   "source": [
    "Activity Patterns"
   ]
  },
  {
   "cell_type": "code",
   "execution_count": 145,
   "metadata": {},
   "outputs": [],
   "source": [
    "ap_forest=forest_birds_final_df[['Interval_Length', 'ID_Method']]"
   ]
  },
  {
   "cell_type": "code",
   "execution_count": 146,
   "metadata": {},
   "outputs": [],
   "source": [
    "ap_gl=gl_birds_final_df[['Interval_Length', 'ID_Method']]"
   ]
  },
  {
   "cell_type": "code",
   "execution_count": null,
   "metadata": {},
   "outputs": [],
   "source": [
    "activity_forest = ap_forest['ID_Method'].value_counts().reset_index(name='observed_count')"
   ]
  },
  {
   "cell_type": "code",
   "execution_count": null,
   "metadata": {},
   "outputs": [],
   "source": [
    "activity_grassland = ap_gl['ID_Method'].value_counts().reset_index(name='observed_count')"
   ]
  },
  {
   "cell_type": "code",
   "execution_count": null,
   "metadata": {},
   "outputs": [],
   "source": [
    "forest_birds_acitivity=px.bar(activity_forest,x='ID_Method',y='observed_count',color='ID_Method')\n",
    "forest_birds_acitivity.update_layout(title=\"Common activity in Forest\") \n",
    "forest_birds_acitivity.show()"
   ]
  },
  {
   "cell_type": "code",
   "execution_count": null,
   "metadata": {},
   "outputs": [],
   "source": [
    "grassland_birds_activity_=px.bar(activity_grassland,x='ID_Method',y='observed_count',color='ID_Method')\n",
    "grassland_birds_activity_.update_layout(title=\"Common activity in Grassland \") \n",
    "grassland_birds_activity_.show()"
   ]
  },
  {
   "cell_type": "markdown",
   "metadata": {},
   "source": [
    "\n",
    "**Environmental Conditions**"
   ]
  },
  {
   "cell_type": "code",
   "execution_count": 155,
   "metadata": {},
   "outputs": [],
   "source": [
    "Weather_forest =forest_birds_final_df[['Temperature','Humidity','Sky', 'Wind', 'Disturbance','Distance']]"
   ]
  },
  {
   "cell_type": "code",
   "execution_count": null,
   "metadata": {},
   "outputs": [],
   "source": [
    "Weather_forest_grouped= Weather_forest.groupby(['Temperature','Humidity', 'Sky','Wind'])['Distance'].value_counts().rename('Observed').reset_index()\n"
   ]
  },
  {
   "cell_type": "code",
   "execution_count": null,
   "metadata": {},
   "outputs": [],
   "source": [
    "weather_distance_correlation_forest=px.scatter(Weather_forest_grouped,x='Temperature',y='Observed' ,hover_data=['Distance','Sky','Wind','Humidity'],color='Sky')\n",
    "weather_distance_correlation_forest.update_layout(title='Forest weather analysis')\n",
    "weather_distance_correlation_forest.show()"
   ]
  },
  {
   "cell_type": "code",
   "execution_count": 160,
   "metadata": {},
   "outputs": [],
   "source": [
    "Weather_gl =gl_birds_final_df[['Temperature','Humidity','Sky', 'Wind', 'Disturbance','Distance']]"
   ]
  },
  {
   "cell_type": "code",
   "execution_count": null,
   "metadata": {},
   "outputs": [],
   "source": [
    "grouped_gl= Weather_gl.groupby(['Temperature','Humidity', 'Sky','Wind'])['Distance'].value_counts().rename('Observed').reset_index()"
   ]
  },
  {
   "cell_type": "code",
   "execution_count": null,
   "metadata": {},
   "outputs": [],
   "source": [
    "weather_distance_correlation_grassland=px.scatter(grouped_gl,x='Temperature',y='Observed' ,hover_data=['Distance','Sky','Wind','Humidity'],color='Sky')\n",
    "weather_distance_correlation_grassland.update_layout(title='Grassland weather analysis')\n",
    "weather_distance_correlation_grassland.show()"
   ]
  },
  {
   "cell_type": "markdown",
   "metadata": {},
   "source": [
    "*Disturbance Effect*"
   ]
  },
  {
   "cell_type": "code",
   "execution_count": null,
   "metadata": {},
   "outputs": [],
   "source": [
    "forest_de= Weather_forest.groupby(['Temperature','Humidity', 'Sky','Wind'])['Disturbance'].value_counts().rename('Observed counts').reset_index()"
   ]
  },
  {
   "cell_type": "code",
   "execution_count": null,
   "metadata": {},
   "outputs": [],
   "source": [
    "\n",
    "dist_forest=px.scatter(forest_de,x='Temperature',y='Humidity' ,hover_data=['Disturbance','Sky','Wind','Observed counts'],color='Disturbance',size='Observed counts')\n",
    "dist_forest.update_layout(title='Disturbance Effect in forest')\n",
    "dist_forest.show()"
   ]
  },
  {
   "cell_type": "code",
   "execution_count": null,
   "metadata": {},
   "outputs": [],
   "source": [
    "grassland_de= Weather_gl.groupby(['Temperature','Humidity', 'Sky','Wind'])['Disturbance'].value_counts().rename('Observed counts').reset_index()"
   ]
  },
  {
   "cell_type": "code",
   "execution_count": null,
   "metadata": {},
   "outputs": [],
   "source": [
    "dist_grassland=px.scatter(grassland_de,x='Temperature',y='Humidity' ,hover_data=['Disturbance','Sky','Wind','Observed counts'],color='Disturbance',size=\"Observed counts\")\n",
    "dist_grassland.update_layout(title='Disturbance Effect in Grassland')\n",
    "dist_grassland.show()"
   ]
  },
  {
   "cell_type": "markdown",
   "metadata": {},
   "source": [
    "**Distance and Behavior**"
   ]
  },
  {
   "cell_type": "markdown",
   "metadata": {},
   "source": [
    "*Distance Analysis*"
   ]
  },
  {
   "cell_type": "code",
   "execution_count": 180,
   "metadata": {},
   "outputs": [],
   "source": [
    "ditance_data_forest=forest_birds_final_df[['Distance', 'Common_Name']]"
   ]
  },
  {
   "cell_type": "code",
   "execution_count": null,
   "metadata": {},
   "outputs": [],
   "source": [
    "daf_count=ditance_data_forest.Common_Name.groupby(ditance_data_forest.Distance).size().reset_index(name='Observed counts')"
   ]
  },
  {
   "cell_type": "code",
   "execution_count": null,
   "metadata": {},
   "outputs": [],
   "source": [
    "distance_analysis_forest=px.bar(daf_count,x='Distance',y='Observed counts',color='Distance')\n",
    "distance_analysis_forest.update_layout(title=\"Distance Analysis of forest birds\") \n",
    "distance_analysis_forest.show()"
   ]
  },
  {
   "cell_type": "code",
   "execution_count": null,
   "metadata": {},
   "outputs": [],
   "source": [
    "daf_group=ditance_data_forest.Distance.groupby(ditance_data_forest.Common_Name).value_counts().reset_index(name=\"Observed counts\")"
   ]
  },
  {
   "cell_type": "code",
   "execution_count": null,
   "metadata": {},
   "outputs": [],
   "source": [
    "\n",
    "distance_analysis_species=px.bar(daf_group,x='Common_Name',y='Observed counts',color='Distance')\n",
    "distance_analysis_species.update_layout(title=\"Distance Analysis of forest bird species\") \n",
    "distance_analysis_species.show()"
   ]
  },
  {
   "cell_type": "code",
   "execution_count": 196,
   "metadata": {},
   "outputs": [],
   "source": [
    "distance_data_gl=gl_birds_final_df[['Distance', 'Common_Name']]"
   ]
  },
  {
   "cell_type": "code",
   "execution_count": null,
   "metadata": {},
   "outputs": [],
   "source": [
    "daf_gl=distance_data_gl.Common_Name.groupby(distance_data_gl.Distance).size().rename('observed count').reset_index()"
   ]
  },
  {
   "cell_type": "code",
   "execution_count": null,
   "metadata": {},
   "outputs": [],
   "source": [
    "distance_analysis_gl=px.bar(daf_gl,x='Distance',y='observed count',color='Distance')\n",
    "distance_analysis_gl.update_layout(title=\"Distance Analysis of grassland birds\") \n",
    "distance_analysis_gl.show()"
   ]
  },
  {
   "cell_type": "code",
   "execution_count": null,
   "metadata": {},
   "outputs": [],
   "source": [
    "daf_gl_species=distance_data_gl.Distance.groupby(distance_data_gl.Common_Name).value_counts().reset_index(name='Observed count')"
   ]
  },
  {
   "cell_type": "code",
   "execution_count": null,
   "metadata": {},
   "outputs": [],
   "source": [
    "distance_analysis_gl_species=px.bar(daf_gl_species,x='Common_Name',y='Observed count',color='Distance')\n",
    "distance_analysis_gl_species.update_layout(title=\"Distance Analysis of grassland bird species\") \n",
    "distance_analysis_gl_species.show()"
   ]
  },
  {
   "cell_type": "markdown",
   "metadata": {},
   "source": [
    "**Observer Trends**"
   ]
  },
  {
   "cell_type": "markdown",
   "metadata": {},
   "source": [
    "*Observer Bias*"
   ]
  },
  {
   "cell_type": "code",
   "execution_count": null,
   "metadata": {},
   "outputs": [],
   "source": [
    "observers_forest =forest_birds_final_df[['Observer','Scientific_Name']]"
   ]
  },
  {
   "cell_type": "code",
   "execution_count": null,
   "metadata": {},
   "outputs": [],
   "source": [
    "observer_groupd_forest=observers_forest.Scientific_Name.groupby(observers_forest.Observer).nunique().reset_index(name='Total_observed_species')"
   ]
  },
  {
   "cell_type": "code",
   "execution_count": null,
   "metadata": {},
   "outputs": [],
   "source": [
    "observer_count_forest=px.bar(observer_groupd_forest,x='Observer',y='Total_observed_species',color='Observer')\n",
    "observer_count_forest.update_layout(title=\"Observers forest\") \n",
    "observer_count_forest.show()"
   ]
  },
  {
   "cell_type": "code",
   "execution_count": null,
   "metadata": {},
   "outputs": [],
   "source": [
    "observer_gl =gl_birds_final_df[['Observer','Scientific_Name']]"
   ]
  },
  {
   "cell_type": "code",
   "execution_count": null,
   "metadata": {},
   "outputs": [],
   "source": [
    "observer_grouped_gl=observer_gl.Scientific_Name.groupby(observer_gl.Observer).nunique().reset_index(name='Total_observed_species')"
   ]
  },
  {
   "cell_type": "code",
   "execution_count": null,
   "metadata": {},
   "outputs": [],
   "source": [
    "observer_count_gl=px.bar(observer_grouped_gl,x='Observer',y='Total_observed_species',color='Observer')\n",
    "observer_count_gl.update_layout(title=\"Observers Grassland\") \n",
    "observer_count_gl.show()"
   ]
  },
  {
   "cell_type": "markdown",
   "metadata": {},
   "source": [
    "*Flyover Frequency*"
   ]
  },
  {
   "cell_type": "code",
   "execution_count": 219,
   "metadata": {},
   "outputs": [],
   "source": [
    "Flyover_forest =forest_birds_final_df[['Common_Name', 'Flyover_Observed']]"
   ]
  },
  {
   "cell_type": "code",
   "execution_count": null,
   "metadata": {},
   "outputs": [],
   "source": [
    "Flyover_forest_group=Flyover_forest.Flyover_Observed.groupby(Flyover_forest.Common_Name).value_counts().reset_index(name='observed_count')"
   ]
  },
  {
   "cell_type": "code",
   "execution_count": null,
   "metadata": {},
   "outputs": [],
   "source": [
    "Flyover_freq_forest=px.bar(Flyover_forest_group,x='Common_Name',y='observed_count',color='Flyover_Observed')\n",
    "Flyover_freq_forest.update_layout(title=\"Flyover_Observed forest\") \n",
    "Flyover_freq_forest.show()"
   ]
  },
  {
   "cell_type": "code",
   "execution_count": 222,
   "metadata": {},
   "outputs": [],
   "source": [
    "Flyover_gl=gl_birds_final_df[['Common_Name', 'Flyover_Observed']]"
   ]
  },
  {
   "cell_type": "code",
   "execution_count": null,
   "metadata": {},
   "outputs": [],
   "source": [
    "Flyover_gl_group=Flyover_gl.Flyover_Observed.groupby(Flyover_gl.Common_Name).value_counts().reset_index(name='observed_count')"
   ]
  },
  {
   "cell_type": "code",
   "execution_count": null,
   "metadata": {},
   "outputs": [],
   "source": [
    "Flyover_group_gl=px.bar(Flyover_gl_group,x='Common_Name',y='observed_count',color='Flyover_Observed')\n",
    "Flyover_group_gl.update_layout(title=\"Flyover_Observed grassland\") \n",
    "Flyover_group_gl.show()"
   ]
  },
  {
   "cell_type": "markdown",
   "metadata": {},
   "source": [
    "*Visit Patterns*"
   ]
  },
  {
   "cell_type": "code",
   "execution_count": 225,
   "metadata": {},
   "outputs": [],
   "source": [
    "forest_vp=forest_birds_final_df[['Common_Name', 'Visit']]"
   ]
  },
  {
   "cell_type": "code",
   "execution_count": null,
   "metadata": {},
   "outputs": [],
   "source": [
    "\n",
    "# Count total bird observations per visit\n",
    "visit_counts_forest = forest_vp.groupby('Visit').size().reset_index(name='Total_Observations')\n"
   ]
  },
  {
   "cell_type": "code",
   "execution_count": null,
   "metadata": {},
   "outputs": [],
   "source": [
    "visit_counts_forest = px.bar(visit_counts_forest, x='Visit', y='Total_Observations', title=\"Bird Observations by Species\",color=\"Visit\")\n",
    "visit_counts_forest.show()"
   ]
  },
  {
   "cell_type": "code",
   "execution_count": null,
   "metadata": {},
   "outputs": [],
   "source": [
    "species_diversity_forest = forest_vp.groupby('Visit')['Common_Name'].nunique().reset_index(name='Unique_Species')"
   ]
  },
  {
   "cell_type": "code",
   "execution_count": null,
   "metadata": {},
   "outputs": [],
   "source": [
    "species_diversity_visit = px.bar(species_diversity_forest, x='Visit', y='Unique_Species', title=\"Bird Observations by Species\",color=\"Visit\")\n",
    "species_diversity_visit.show()"
   ]
  },
  {
   "cell_type": "code",
   "execution_count": 231,
   "metadata": {},
   "outputs": [],
   "source": [
    "vp_gl=gl_birds_final_df[['Common_Name', 'Visit']]"
   ]
  },
  {
   "cell_type": "code",
   "execution_count": null,
   "metadata": {},
   "outputs": [],
   "source": [
    "# Count total bird observations per visit\n",
    "visit_counts_gl = vp_gl.groupby('Visit').size().reset_index(name='Total_Observations')\n"
   ]
  },
  {
   "cell_type": "code",
   "execution_count": null,
   "metadata": {},
   "outputs": [],
   "source": [
    "visit_counts_gl = px.bar(visit_counts_gl, x='Visit', y='Total_Observations',  title=\"Bird Observations by Species\",color=\"Visit\")\n",
    "visit_counts_gl.show()"
   ]
  },
  {
   "cell_type": "code",
   "execution_count": null,
   "metadata": {},
   "outputs": [],
   "source": [
    "species_diversity_gl = vp_gl.groupby('Visit')['Common_Name'].nunique().reset_index(name='Unique_Species')"
   ]
  },
  {
   "cell_type": "code",
   "execution_count": null,
   "metadata": {},
   "outputs": [],
   "source": [
    "species_diversity_gl = px.bar(species_diversity_gl, x='Visit', y='Unique_Species', title=\"Bird Observations by Species\",color=\"Visit\")\n",
    "species_diversity_gl.show()"
   ]
  },
  {
   "cell_type": "markdown",
   "metadata": {},
   "source": [
    "**Conservation Insights**"
   ]
  },
  {
   "cell_type": "markdown",
   "metadata": {},
   "source": [
    "*Watchlist Trend*"
   ]
  },
  {
   "cell_type": "code",
   "execution_count": null,
   "metadata": {},
   "outputs": [],
   "source": [
    "risk_forest=forest_birds_final_df[['Location_Type','Common_Name','Visit',  'PIF_Watchlist_Status', 'Regional_Stewardship_Status']]"
   ]
  },
  {
   "cell_type": "code",
   "execution_count": null,
   "metadata": {},
   "outputs": [],
   "source": [
    "risk_forest_filter=risk_forest[(risk_forest['PIF_Watchlist_Status']==True) & (risk_forest['Regional_Stewardship_Status']==True)]"
   ]
  },
  {
   "cell_type": "code",
   "execution_count": null,
   "metadata": {},
   "outputs": [],
   "source": [
    "risk_forest_filter_count=risk_forest_filter.value_counts(subset=['Common_Name',\t'Visit'\t,'PIF_Watchlist_Status','Regional_Stewardship_Status']).reset_index()\n",
    "risk_forest_filter_count"
   ]
  },
  {
   "cell_type": "code",
   "execution_count": null,
   "metadata": {},
   "outputs": [],
   "source": [
    "watchlist_forest = px.sunburst(risk_forest_filter_count,path=['Visit','Common_Name'],values='count',title=\"Forest birds watchlist\")\n",
    "watchlist_forest.show()"
   ]
  },
  {
   "cell_type": "code",
   "execution_count": null,
   "metadata": {},
   "outputs": [],
   "source": [
    "risk_gl=gl_birds_final_df[['Location_Type','Common_Name','Visit',  'PIF_Watchlist_Status', 'Regional_Stewardship_Status']]"
   ]
  },
  {
   "cell_type": "code",
   "execution_count": null,
   "metadata": {},
   "outputs": [],
   "source": [
    "risk_gl_filter=risk_gl[(risk_gl['PIF_Watchlist_Status']==True) & (risk_gl['Regional_Stewardship_Status']==True)]"
   ]
  },
  {
   "cell_type": "code",
   "execution_count": null,
   "metadata": {},
   "outputs": [],
   "source": [
    "risk_gl_filter_count=risk_gl_filter.value_counts().reset_index()"
   ]
  },
  {
   "cell_type": "code",
   "execution_count": null,
   "metadata": {},
   "outputs": [],
   "source": [
    "watchlist_gl = px.sunburst(risk_gl_filter_count,path=['Visit','Common_Name'],values='count',title=\"Grassland birds watchlist\")\n",
    "watchlist_gl.show()"
   ]
  },
  {
   "cell_type": "markdown",
   "metadata": {},
   "source": [
    "*AOU Code Patterns*"
   ]
  },
  {
   "cell_type": "code",
   "execution_count": null,
   "metadata": {},
   "outputs": [],
   "source": [
    "aou_forest=forest_birds_final_df[['Common_Name', 'AOU_Code','Regional_Stewardship_Status' ]]"
   ]
  },
  {
   "cell_type": "code",
   "execution_count": null,
   "metadata": {},
   "outputs": [],
   "source": [
    "aou_forest_group=aou_forest.groupby('AOU_Code')[[\"Common_Name\",\"Regional_Stewardship_Status\"]].value_counts().reset_index()"
   ]
  },
  {
   "cell_type": "code",
   "execution_count": null,
   "metadata": {},
   "outputs": [],
   "source": [
    "aou_forest_filter=aou_forest_group[aou_forest_group['Regional_Stewardship_Status']==True]"
   ]
  },
  {
   "cell_type": "code",
   "execution_count": null,
   "metadata": {},
   "outputs": [],
   "source": [
    "forest_aou=px.bar(aou_forest_filter,x='AOU_Code',y='count',color='Common_Name')\n",
    "forest_aou.update_layout(title=\"Forest conservation priorities\") \n",
    "forest_aou.show()"
   ]
  },
  {
   "cell_type": "code",
   "execution_count": null,
   "metadata": {},
   "outputs": [],
   "source": [
    "aou_gl=gl_birds_final_df[['Common_Name', 'AOU_Code','Regional_Stewardship_Status' ]]"
   ]
  },
  {
   "cell_type": "code",
   "execution_count": null,
   "metadata": {},
   "outputs": [],
   "source": [
    "aou_count_gl=aou_gl.groupby('AOU_Code')[[\"Common_Name\",\"Regional_Stewardship_Status\"]].value_counts(ascending=True).reset_index()"
   ]
  },
  {
   "cell_type": "code",
   "execution_count": null,
   "metadata": {},
   "outputs": [],
   "source": [
    "aou_gl_filter=aou_count_gl[aou_count_gl['Regional_Stewardship_Status']==True]"
   ]
  },
  {
   "cell_type": "code",
   "execution_count": null,
   "metadata": {},
   "outputs": [],
   "source": [
    "grassland_aou=px.bar(aou_gl_filter,x='AOU_Code',y='count',color='Common_Name')\n",
    "grassland_aou.update_layout(title=\"Grassland conservation priorities\") \n",
    "grassland_aou.show()"
   ]
  }
 ],
 "metadata": {
  "kernelspec": {
   "display_name": "Python 3",
   "language": "python",
   "name": "python3"
  },
  "language_info": {
   "codemirror_mode": {
    "name": "ipython",
    "version": 3
   },
   "file_extension": ".py",
   "mimetype": "text/x-python",
   "name": "python",
   "nbconvert_exporter": "python",
   "pygments_lexer": "ipython3",
   "version": "3.12.8"
  }
 },
 "nbformat": 4,
 "nbformat_minor": 2
}
